{
 "cells": [
  {
   "cell_type": "code",
   "execution_count": 1,
   "outputs": [
    {
     "name": "stdout",
     "output_type": "stream",
     "text": [
      "Welcome to eht-imaging! v 1.2.4 \n",
      "\n"
     ]
    }
   ],
   "source": [
    "import ehtim as eh"
   ],
   "metadata": {
    "collapsed": false,
    "pycharm": {
     "name": "#%%\n"
    }
   }
  },
  {
   "cell_type": "code",
   "execution_count": 2,
   "outputs": [
    {
     "name": "stdout",
     "output_type": "stream",
     "text": [
      "Loading text image:  ../models/avery_sgra_eofn.txt\n"
     ]
    }
   ],
   "source": [
    "# Load in example image and array\n",
    "im = eh.image.load_txt('../models/avery_sgra_eofn.txt')\n",
    "eht = eh.array.load_txt('../arrays/EHT2017.txt')"
   ],
   "metadata": {
    "collapsed": false,
    "pycharm": {
     "name": "#%%\n"
    }
   }
  },
  {
   "cell_type": "code",
   "execution_count": 3,
   "outputs": [
    {
     "name": "stdout",
     "output_type": "stream",
     "text": [
      "Generating empty observation file . . . \n",
      "Producing clean visibilities from image with nfft FT . . . \n",
      "Adding gain + phase errors to data and applying a priori calibration . . . \n",
      "   Applying atmospheric phase corruption: phasecal-->False\n",
      "Adding thermal noise to data . . . \n",
      "Building NX table\n"
     ]
    }
   ],
   "source": [
    "# create example observation uvfits file\n",
    "tint_sec = 5\n",
    "tadv_sec = 600\n",
    "tstart_hr = 0\n",
    "tstop_hr = 24\n",
    "bw_hz = 4e9\n",
    "obs = im.observe(eht, tint_sec, tadv_sec, tstart_hr, tstop_hr, bw_hz,\n",
    "                 sgrscat=False, ampcal=True, phasecal=False)\n",
    "obs.save_uvfits('../../example_survey_obs.uvfits')"
   ],
   "metadata": {
    "collapsed": false,
    "pycharm": {
     "name": "#%%\n"
    }
   }
  },
  {
   "cell_type": "code",
   "execution_count": 4,
   "outputs": [
    {
     "name": "stdout",
     "output_type": "stream",
     "text": [
      "{'ALMA': 0.1, 'LMT': 0.1, 'PV': 0.1, 'APEX': 0.1, 'SMA': 0.1, 'SMT': 0.1, 'SPT': 0.1, 'JCMT': 0.1}\n"
     ]
    }
   ],
   "source": [
    "# create a mock SEFD error budget for this array\n",
    "sites = list(obs.tkey.keys())\n",
    "SEFD_errs = {}\n",
    "for site in sites:\n",
    "    SEFD_errs[site] = 0.1\n",
    "\n",
    "print(SEFD_errs)"
   ],
   "metadata": {
    "collapsed": false,
    "pycharm": {
     "name": "#%%\n"
    }
   }
  },
  {
   "cell_type": "code",
   "execution_count": 5,
   "outputs": [
    {
     "name": "stdout",
     "output_type": "stream",
     "text": [
      "{'infile': '../../example_survey_obs.uvfits', 'outfile_base': 'example_survey', 'outpath': '../../example_survey_output/', 'ground_truth_img': 'None', 'save_imgsums': False, 'save_uvfits': True, 'save_pdf': False, 'save_stats': True, 'save_caltab': True, 'nproc': -1, 'backend': 'multiprocessing', 'ttype': 'nfft', 'overwrite': True, 'selfcal': True, 'gaintol': [0.02, 0.2], 'niter_static': 2, 'blurfrac': 1, 'maxit': 100, 'stop': 0.0001, 'fov': 128, 'npixels': 64, 'reverse_taper_uas': 5, 'uv_zblcut': 100000000.0, 'SEFD_error_budget': {'ALMA': 0.1, 'LMT': 0.1, 'PV': 0.1, 'APEX': 0.1, 'SMA': 0.1, 'SMT': 0.1, 'SPT': 0.1, 'JCMT': 0.1}}\n"
     ]
    }
   ],
   "source": [
    "# create a dict of non-varying imaging parameters, such as filenames\n",
    "# see a full list of fixed parameters in the docs\n",
    "params_fixed = eh.survey.create_params_fixed(infile='../../example_survey_obs.uvfits',\n",
    "                                            outfile_base='example_survey',\n",
    "                                             outpath='../../example_survey_output/',\n",
    "                                             nproc=-1, # use all available cores, can be changed\n",
    "                                             overwrite=True,\n",
    "                                             niter_static=2,\n",
    "                                             SEFD_error_budget= SEFD_errs)\n",
    "\n",
    "print(params_fixed)"
   ],
   "metadata": {
    "collapsed": false,
    "pycharm": {
     "name": "#%%\n"
    }
   }
  },
  {
   "cell_type": "code",
   "execution_count": 6,
   "outputs": [
    {
     "data": {
      "text/plain": "   zbl sys_noise avg_time prior_fwhm sc_phase xdw_phase sc_ap xdw_ap  amp  \\\n0  0.6      0.00     scan         50        0        10     0      1  0.2   \n1  0.6      0.01     scan         50        0        10     0      1  0.2   \n2  0.7      0.00     scan         50        0        10     0      1  0.2   \n3  0.7      0.01     scan         50        0        10     0      1  0.2   \n\n  cphase logcamp simple l1 tv tv2 flux    epsilon_tv  i  \n0      1       1      1  1  1   1    1  1.000000e-10  0  \n1      1       1      1  1  1   1    1  1.000000e-10  1  \n2      1       1      1  1  1   1    1  1.000000e-10  2  \n3      1       1      1  1  1   1    1  1.000000e-10  3  ",
      "text/html": "<div>\n<style scoped>\n    .dataframe tbody tr th:only-of-type {\n        vertical-align: middle;\n    }\n\n    .dataframe tbody tr th {\n        vertical-align: top;\n    }\n\n    .dataframe thead th {\n        text-align: right;\n    }\n</style>\n<table border=\"1\" class=\"dataframe\">\n  <thead>\n    <tr style=\"text-align: right;\">\n      <th></th>\n      <th>zbl</th>\n      <th>sys_noise</th>\n      <th>avg_time</th>\n      <th>prior_fwhm</th>\n      <th>sc_phase</th>\n      <th>xdw_phase</th>\n      <th>sc_ap</th>\n      <th>xdw_ap</th>\n      <th>amp</th>\n      <th>cphase</th>\n      <th>logcamp</th>\n      <th>simple</th>\n      <th>l1</th>\n      <th>tv</th>\n      <th>tv2</th>\n      <th>flux</th>\n      <th>epsilon_tv</th>\n      <th>i</th>\n    </tr>\n  </thead>\n  <tbody>\n    <tr>\n      <th>0</th>\n      <td>0.6</td>\n      <td>0.00</td>\n      <td>scan</td>\n      <td>50</td>\n      <td>0</td>\n      <td>10</td>\n      <td>0</td>\n      <td>1</td>\n      <td>0.2</td>\n      <td>1</td>\n      <td>1</td>\n      <td>1</td>\n      <td>1</td>\n      <td>1</td>\n      <td>1</td>\n      <td>1</td>\n      <td>1.000000e-10</td>\n      <td>0</td>\n    </tr>\n    <tr>\n      <th>1</th>\n      <td>0.6</td>\n      <td>0.01</td>\n      <td>scan</td>\n      <td>50</td>\n      <td>0</td>\n      <td>10</td>\n      <td>0</td>\n      <td>1</td>\n      <td>0.2</td>\n      <td>1</td>\n      <td>1</td>\n      <td>1</td>\n      <td>1</td>\n      <td>1</td>\n      <td>1</td>\n      <td>1</td>\n      <td>1.000000e-10</td>\n      <td>1</td>\n    </tr>\n    <tr>\n      <th>2</th>\n      <td>0.7</td>\n      <td>0.00</td>\n      <td>scan</td>\n      <td>50</td>\n      <td>0</td>\n      <td>10</td>\n      <td>0</td>\n      <td>1</td>\n      <td>0.2</td>\n      <td>1</td>\n      <td>1</td>\n      <td>1</td>\n      <td>1</td>\n      <td>1</td>\n      <td>1</td>\n      <td>1</td>\n      <td>1.000000e-10</td>\n      <td>2</td>\n    </tr>\n    <tr>\n      <th>3</th>\n      <td>0.7</td>\n      <td>0.01</td>\n      <td>scan</td>\n      <td>50</td>\n      <td>0</td>\n      <td>10</td>\n      <td>0</td>\n      <td>1</td>\n      <td>0.2</td>\n      <td>1</td>\n      <td>1</td>\n      <td>1</td>\n      <td>1</td>\n      <td>1</td>\n      <td>1</td>\n      <td>1</td>\n      <td>1.000000e-10</td>\n      <td>3</td>\n    </tr>\n  </tbody>\n</table>\n</div>"
     },
     "metadata": {},
     "output_type": "display_data"
    }
   ],
   "source": [
    "# create a DataFrame of parameters to be surveyed over\n",
    "psets = eh.survey.create_survey_psets(zbl=[0.6,0.7], sys_noise=[0,0.01], prior_fwhm=[50])\n",
    "display(psets)"
   ],
   "metadata": {
    "collapsed": false,
    "pycharm": {
     "name": "#%%\n"
    }
   }
  },
  {
   "cell_type": "code",
   "execution_count": 7,
   "outputs": [
    {
     "name": "stdout",
     "output_type": "stream",
     "text": [
      "Loading uvfits:  ../../example_survey_obs.uvfits\n",
      "no IF in uvfits header!\n",
      "POLREP_UVFITS: circ\n",
      "Number of uvfits Correlation Products: 4\n",
      "Warning! Specified flux is < 80% of maximum visibility amplitude!\n",
      "Initializing imager data products . . .\n",
      "U-V flagged 125/1030 visibilities\n",
      "U-V flagged 905/1030 visibilities\n",
      "==============================\n",
      "Imager run 1 \n",
      "Warning! Specified flux is < 80% of maximum visibility amplitude!\n",
      "time: 1.500396 s\n",
      "J: 64.164345\n",
      "chi2_amp : 186.40 chi2_cphase : 6.68 chi2_logcamp : 8.33 \n",
      "STOP: TOTAL NO. of ITERATIONS REACHED LIMIT\n",
      "==============================\n",
      "==============================\n",
      "Imager run 2 \n",
      "Warning! Specified flux is < 80% of maximum visibility amplitude!\n",
      "time: 1.467887 s\n",
      "J: 62.248740\n",
      "chi2_amp : 185.37 chi2_cphase : 5.58 chi2_logcamp : 7.73 \n",
      "STOP: TOTAL NO. of ITERATIONS REACHED LIMIT\n",
      "==============================\n",
      "No stations specified in self cal: defaulting to calibrating all stations!\n",
      "Computing the Model Visibilities with nfft Fourier Transform...\n",
      "Producing clean visibilities from image with nfft FT . . . \n",
      "Not Using Multiprocessing\n",
      "Scan 106/107 : [----------------------------- ]99%\n",
      "self_cal time: 10.896780 s\n",
      "U-V flagged 125/1030 visibilities\n",
      "U-V flagged 905/1030 visibilities\n",
      "Updated self.amp: no averaging\n",
      "Updated self.amp: avg_time 0.000000 s\n",
      "\n",
      "Adding a 1.731685148831659 Jy circular Gaussian of FWHM size 1303.9269657417408 uas\n",
      "No stations specified in self cal: defaulting to calibrating all stations!\n",
      "Computing the Model Visibilities with nfft Fourier Transform...\n",
      "Producing clean visibilities from image with nfft FT . . . \n",
      "Not Using Multiprocessing\n",
      "Scan 106/107 : [----------------------------- ]99%\n",
      "self_cal time: 15.252301 s\n",
      "Building NX table\n",
      "No NX table in saved uvfits\n",
      "U-V flagged 125/1030 visibilities\n",
      "U-V flagged 905/1030 visibilities\n",
      "No stations specified in self cal: defaulting to calibrating all stations!\n",
      "Computing the Model Visibilities with nfft Fourier Transform...\n",
      "Producing clean visibilities from image with nfft FT . . . \n",
      "Not Using Multiprocessing\n",
      "Scan 106/107 : [----------------------------- ]99%\n",
      "self_cal time: 16.306776 s\n",
      "U-V flagged 125/1030 visibilities\n",
      "U-V flagged 905/1030 visibilities\n"
     ]
    }
   ],
   "source": [
    "# to run only a single pset, create an instance of the ParameterSet class and use the function run()\n",
    "# should take ~1 minute to run\n",
    "pset = dict(psets.iloc[0])\n",
    "\n",
    "ps = eh.survey.ParameterSet(pset, params_fixed)\n",
    "ps.run()"
   ],
   "metadata": {
    "collapsed": false,
    "pycharm": {
     "name": "#%%\n"
    }
   }
  },
  {
   "cell_type": "code",
   "execution_count": 12,
   "outputs": [
    {
     "data": {
      "text/plain": "<Figure size 432x288 with 2 Axes>",
      "image/png": "[encoded data removed]"
     },
     "metadata": {
      "needs_background": "light"
     },
     "output_type": "display_data"
    }
   ],
   "source": [
    "# display output image\n",
    "# won't necessarily be good as the default selection of hyperparameters is not optimized for anything\n",
    "ps.im_out.display();"
   ],
   "metadata": {
    "collapsed": false,
    "pycharm": {
     "name": "#%%\n"
    }
   }
  },
  {
   "cell_type": "code",
   "execution_count": 9,
   "outputs": [
    {
     "name": "stderr",
     "output_type": "stream",
     "text": [
      "initializing paramsurvey multiprocessing backend\n",
      "initializing multiprocessing pool with 7 processes\n",
      "paramsurvey.map start time 20221111-223900\n",
      "paramsurvey.map pset count 4, pset columns ['zbl', 'sys_noise', 'avg_time', 'prior_fwhm', 'sc_phase', 'xdw_phase', 'sc_ap', 'xdw_ap', 'amp', 'cphase', 'logcamp', 'simple', 'l1', 'tv', 'tv2', 'flux', 'epsilon_tv', 'i']\n"
     ]
    },
    {
     "name": "stdout",
     "output_type": "stream",
     "text": [
      "Welcome to eht-imaging! v 1.2.4 \n",
      "\n",
      "Loading uvfits:  ../../example_survey_obs.uvfits\n",
      "no IF in uvfits header!\n",
      "POLREP_UVFITS: circ\n",
      "Number of uvfits Correlation Products: 4\n",
      "Warning! Specified flux is < 80% of maximum visibility amplitude!\n",
      "Initializing imager data products . . .\n",
      "U-V flagged 125/1030 visibilities\n",
      "U-V flagged 905/1030 visibilities\n",
      "==============================\n",
      "Imager run 1 \n",
      "Warning! Specified flux is < 80% of maximum visibility amplitude!\n",
      "time: 3.368530 s\n",
      "J: 86.582074\n",
      "chi2_amp : 141.96 chi2_cphase : 38.55 chi2_logcamp : 8.61 \n",
      "STOP: TOTAL NO. of ITERATIONS REACHED LIMIT\n",
      "==============================\n",
      "==============================\n",
      "Imager run 2 \n",
      "Warning! Specified flux is < 80% of maximum visibility amplitude!\n",
      "time: 3.259717 s\n",
      "J: 76.978364\n",
      "chi2_amp : 175.30 chi2_cphase : 19.96 chi2_logcamp : 10.31 \n",
      "STOP: TOTAL NO. of ITERATIONS REACHED LIMIT\n",
      "==============================\n",
      "No stations specified in self cal: defaulting to calibrating all stations!\n",
      "Computing the Model Visibilities with nfft Fourier Transform...\n",
      "Producing clean visibilities from image with nfft FT . . . \n",
      "Not Using Multiprocessing\n",
      "Scan 000/107 : [                              ]0%Welcome to eht-imaging! v 1.2.4 \n",
      "\n",
      "Loading uvfits:  ../../example_survey_obs.uvfits\n",
      "no IF in uvfits header!\n",
      "POLREP_UVFITS: circ\n",
      "Number of uvfits Correlation Products: 4\n",
      "Warning! Specified flux is < 80% of maximum visibility amplitude!\n",
      "Initializing imager data products . . .\n",
      "U-V flagged 125/1030 visibilities\n",
      "U-V flagged 905/1030 visibilities\n",
      "==============================\n",
      "Imager run 1 \n",
      "Warning! Specified flux is < 80% of maximum visibility amplitude!\n",
      "time: 3.393002 s\n",
      "J: 43.584438\n",
      "chi2_amp : 118.12 chi2_cphase : 4.10 chi2_logcamp : 5.43 \n",
      "STOP: TOTAL NO. of ITERATIONS REACHED LIMIT\n",
      "==============================\n",
      "==============================\n",
      "Imager run 2 \n",
      "Warning! Specified flux is < 80% of maximum visibility amplitude!\n",
      "time: 3.269622 s\n",
      "J: 41.222082\n",
      "chi2_amp : 113.42 chi2_cphase : 3.45 chi2_logcamp : 4.89 \n",
      "STOP: TOTAL NO. of ITERATIONS REACHED LIMIT\n",
      "==============================\n",
      "No stations specified in self cal: defaulting to calibrating all stations!\n",
      "Computing the Model Visibilities with nfft Fourier Transform...\n",
      "Producing clean visibilities from image with nfft FT . . . \n",
      "Not Using Multiprocessing\n",
      "Scan 001/107 : [                              ]0%Welcome to eht-imaging! v 1.2.4 \n",
      "\n",
      "Loading uvfits:  ../../example_survey_obs.uvfits\n",
      "no IF in uvfits header!\n",
      "POLREP_UVFITS: circ\n",
      "Number of uvfits Correlation Products: 4\n",
      "Warning! Specified flux is < 80% of maximum visibility amplitude!\n",
      "Initializing imager data products . . .\n",
      "U-V flagged 125/1030 visibilities\n",
      "U-V flagged 905/1030 visibilities\n",
      "==============================\n",
      "Imager run 1 \n",
      "Warning! Specified flux is < 80% of maximum visibility amplitude!\n",
      "time: 3.247052 s\n",
      "J: 64.164345\n",
      "chi2_amp : 186.40 chi2_cphase : 6.68 chi2_logcamp : 8.33 \n",
      "STOP: TOTAL NO. of ITERATIONS REACHED LIMIT\n",
      "==============================\n",
      "==============================\n",
      "Imager run 2 \n",
      "Warning! Specified flux is < 80% of maximum visibility amplitude!\n",
      "time: 3.406903 s\n",
      "J: 62.248740\n",
      "chi2_amp : 185.37 chi2_cphase : 5.58 chi2_logcamp : 7.73 \n",
      "STOP: TOTAL NO. of ITERATIONS REACHED LIMIT\n",
      "==============================\n",
      "No stations specified in self cal: defaulting to calibrating all stations!\n",
      "Computing the Model Visibilities with nfft Fourier Transform...\n",
      "Producing clean visibilities from image with nfft FT . . . \n",
      "Not Using Multiprocessing\n",
      "Scan 002/107 : [                              ]1%Welcome to eht-imaging! v 1.2.4 \n",
      "\n",
      "Loading uvfits:  ../../example_survey_obs.uvfits\n",
      "no IF in uvfits header!\n",
      "POLREP_UVFITS: circ\n",
      "Number of uvfits Correlation Products: 4\n",
      "Warning! Specified flux is < 80% of maximum visibility amplitude!\n",
      "Initializing imager data products . . .\n",
      "U-V flagged 125/1030 visibilities\n",
      "U-V flagged 905/1030 visibilities\n",
      "==============================\n",
      "Imager run 1 \n",
      "Warning! Specified flux is < 80% of maximum visibility amplitude!\n",
      "time: 3.409076 s\n",
      "J: 81.335751\n",
      "chi2_amp : 164.38 chi2_cphase : 27.77 chi2_logcamp : 9.86 \n",
      "STOP: TOTAL NO. of ITERATIONS REACHED LIMIT\n",
      "==============================\n",
      "==============================\n",
      "Imager run 2 \n",
      "Warning! Specified flux is < 80% of maximum visibility amplitude!\n",
      "time: 3.695684 s\n",
      "J: 56.093931\n",
      "chi2_amp : 158.33 chi2_cphase : 6.71 chi2_logcamp : 7.05 \n",
      "STOP: TOTAL NO. of ITERATIONS REACHED LIMIT\n",
      "==============================\n",
      "No stations specified in self cal: defaulting to calibrating all stations!\n",
      "Computing the Model Visibilities with nfft Fourier Transform...\n",
      "Producing clean visibilities from image with nfft FT . . . \n",
      "Not Using Multiprocessing\n",
      "Scan 106/107 : [----------------------------- ]99%\n",
      "self_cal time: 11.406886 s\n",
      "U-V flagged 125/1030 visibilities\n",
      "U-V flagged 905/1030 visibilities\n",
      "Updated self.amp: no averaging\n",
      "Updated self.amp: avg_time 0.000000 s\n",
      "\n",
      "Adding a 1.7297019774699758 Jy circular Gaussian of FWHM size 1303.9269657417408 uas\n",
      "No stations specified in self cal: defaulting to calibrating all stations!\n",
      "Computing the Model Visibilities with nfft Fourier Transform...\n",
      "Producing clean visibilities from image with nfft FT . . . \n",
      "Not Using Multiprocessing\n",
      "Scan 001/107 : [                              ]0%\n",
      "self_cal time: 11.351531 s\n",
      "U-V flagged 125/1030 visibilities\n",
      "U-V flagged 905/1030 visibilities\n",
      "Updated self.amp: no averaging\n",
      "Updated self.amp: avg_time 0.000000 s\n",
      "\n",
      "Adding a 1.6165268592634436 Jy circular Gaussian of FWHM size 1303.9269657417408 uas\n",
      "No stations specified in self cal: defaulting to calibrating all stations!\n",
      "Computing the Model Visibilities with nfft Fourier Transform...\n",
      "Producing clean visibilities from image with nfft FT . . . \n",
      "Not Using Multiprocessing\n",
      "Scan 026/107 : [-------                       ]24%\n",
      "self_cal time: 14.699705 s\n",
      "U-V flagged 125/1030 visibilities\n",
      "U-V flagged 905/1030 visibilities\n",
      "Updated self.amp: no averaging\n",
      "Updated self.amp: avg_time 0.000000 s\n",
      "\n",
      "Adding a 1.6120924798733602 Jy circular Gaussian of FWHM size 1303.9269657417408 uas\n",
      "No stations specified in self cal: defaulting to calibrating all stations!\n",
      "Computing the Model Visibilities with nfft Fourier Transform...\n",
      "Producing clean visibilities from image with nfft FT . . . \n",
      "Not Using Multiprocessing\n",
      "Scan 000/107 : [                              ]0%\n",
      "self_cal time: 14.985497 s\n",
      "U-V flagged 125/1030 visibilities\n",
      "U-V flagged 905/1030 visibilities\n",
      "Updated self.amp: no averaging\n",
      "Updated self.amp: avg_time 0.000000 s\n",
      "\n",
      "Adding a 1.731685148831659 Jy circular Gaussian of FWHM size 1303.9269657417408 uas\n",
      "No stations specified in self cal: defaulting to calibrating all stations!\n",
      "Computing the Model Visibilities with nfft Fourier Transform...\n",
      "Producing clean visibilities from image with nfft FT . . . \n",
      "Not Using Multiprocessing\n",
      "Scan 106/107 : [----------------------------- ]99%\n",
      "self_cal time: 19.126100 s\n",
      "Building NX table\n",
      "No NX table in saved uvfits\n",
      "U-V flagged 125/1030 visibilities\n",
      "U-V flagged 905/1030 visibilities\n",
      "No stations specified in self cal: defaulting to calibrating all stations!\n",
      "Computing the Model Visibilities with nfft Fourier Transform...\n",
      "Producing clean visibilities from image with nfft FT . . . \n",
      "Not Using Multiprocessing\n",
      "Scan 002/107 : [                              ]1%\n",
      "self_cal time: 19.450004 s\n",
      "Building NX table\n",
      "No NX table in saved uvfits\n",
      "U-V flagged 125/1030 visibilities\n",
      "U-V flagged 905/1030 visibilities\n",
      "No stations specified in self cal: defaulting to calibrating all stations!\n",
      "Computing the Model Visibilities with nfft Fourier Transform...\n",
      "Producing clean visibilities from image with nfft FT . . . \n",
      "Not Using Multiprocessing\n",
      "Scan 028/107 : [-------                       ]26%\n",
      "self_cal time: 21.076724 s\n",
      "Building NX table\n",
      "No NX table in saved uvfits\n",
      "U-V flagged 125/1030 visibilities\n",
      "U-V flagged 905/1030 visibilities\n",
      "No stations specified in self cal: defaulting to calibrating all stations!\n",
      "Computing the Model Visibilities with nfft Fourier Transform...\n",
      "Producing clean visibilities from image with nfft FT . . . \n",
      "Not Using Multiprocessing\n",
      "Scan 008/107 : [--                            ]7%%\n",
      "self_cal time: 22.752564 s\n",
      "Building NX table\n",
      "No NX table in saved uvfits\n",
      "U-V flagged 125/1030 visibilities\n",
      "U-V flagged 905/1030 visibilities\n",
      "No stations specified in self cal: defaulting to calibrating all stations!\n",
      "Computing the Model Visibilities with nfft Fourier Transform...\n",
      "Producing clean visibilities from image with nfft FT . . . \n",
      "Not Using Multiprocessing\n",
      "Scan 105/107 : [----------------------------- ]98%"
     ]
    },
    {
     "name": "stderr",
     "output_type": "stream",
     "text": [
      "counter default_iowait, total -28s, mean -13.81s, counts 0\n",
      "counter default_iowait, 50%tile: 0.00s\n",
      "counter default_iowait, 90%tile: 0.00s\n",
      "counter default_iowait, 95%tile: 0.00s\n",
      "counter default_iowait, 99%tile: 0.00s\n",
      "counter default_wallclock, total 157s, mean 78.74s, counts 2\n",
      "counter default_wallclock, 50%tile: 78.85s\n",
      "counter default_wallclock, 90%tile: 79.36s\n",
      "counter default_wallclock, 95%tile: 79.36s\n",
      "counter default_wallclock, 99%tile: 79.36s\n"
     ]
    },
    {
     "name": "stdout",
     "output_type": "stream",
     "text": [
      "Scan 106/107 : [----------------------------- ]99%"
     ]
    },
    {
     "name": "stderr",
     "output_type": "stream",
     "text": [
      "default progress: total: 4, active: 0, finished: 4, failures: 0, exceptions: 0\n",
      "counter default_iowait, total -56s, mean -14.01s, counts 0\n",
      "counter default_iowait, 50%tile: 0.00s\n",
      "counter default_iowait, 90%tile: 0.00s\n",
      "counter default_iowait, 95%tile: 0.00s\n",
      "counter default_iowait, 99%tile: 0.00s\n",
      "counter default_wallclock, total 337s, mean 84.37s, counts 4\n",
      "counter default_wallclock, 50%tile: 79.36s\n",
      "counter default_wallclock, 90%tile: 91.14s\n",
      "counter default_wallclock, 95%tile: 91.14s\n",
      "counter default_wallclock, 99%tile: 91.14s\n",
      "/Users/nitikayadlapalli/opt/anaconda3/envs/py38/lib/python3.8/site-packages/pandas_appender/appender.py:117: FutureWarning: The frame.append method is deprecated and will be removed from pandas in a future version. Use pandas.concat instead.\n",
      "  df = df.append(self._small, **self._append_kwargs)\n",
      "paramsurvey.map end time 20221111-224034\n",
      "paramsurvey.map returning results\n"
     ]
    }
   ],
   "source": [
    "# to run all parameter sets, use the run_survey function\n",
    "# should take ~1-2 minutes to run\n",
    "eh.survey.run_survey(psets, params_fixed)"
   ],
   "metadata": {
    "collapsed": false,
    "pycharm": {
     "name": "#%%\n"
    }
   }
  },
  {
   "cell_type": "code",
   "execution_count": 9,
   "outputs": [],
   "source": [],
   "metadata": {
    "collapsed": false,
    "pycharm": {
     "name": "#%%\n"
    }
   }
  }
 ],
 "metadata": {
  "kernelspec": {
   "display_name": "Python 3",
   "language": "python",
   "name": "python3"
  },
  "language_info": {
   "codemirror_mode": {
    "name": "ipython",
    "version": 2
   },
   "file_extension": ".py",
   "mimetype": "text/x-python",
   "name": "python",
   "nbconvert_exporter": "python",
   "pygments_lexer": "ipython2",
   "version": "2.7.6"
  }
 },
 "nbformat": 4,
 "nbformat_minor": 0
}