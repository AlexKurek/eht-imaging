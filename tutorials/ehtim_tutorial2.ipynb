{
 "cells": [
  {
   "cell_type": "markdown",
   "metadata": {},
   "source": [
    "# *eht-imaging* tutorial #2\n",
    "## (originally developed by Antonio Fuentes for the ngEHT Winter 2021 meeting)\n",
    "\n",
    "---\n",
    "\n",
    "`eht-imaging` is a Python software for radio interferometric simulation, calibration, analysis, and imaging. Code and documentation can be found on [GitHub](https://github.com/achael/eht-imaging)\n",
    "\n",
    "This notebook is a simplified version of the imaging process employed by the `eht-imaging` script from the *First M87 EHT Results: Imaging Pipelines* public repository that can be found on [GitHub](https://github.com/eventhorizontelescope/2019-D01-02).\n",
    "\n",
    "[These slides](https://docs.google.com/presentation/d/1A0y9omYI2ueSUa6_t5reylBhw6eiLwjqDzw-HUOk8Ac/edit?usp=sharing) walk through the main steps of the tutorial\n",
    "\n",
    "## Prerequisites\n",
    "Running this notebook requires that `eht-imaging` and its dependencies are installed (see README on [GitHub](https://github.com/achael/eht-imaging)). If you do not have `nfft` installed, you can set `ttype=fast` in the following."
   ]
  },
  {
   "cell_type": "markdown",
   "metadata": {},
   "source": [
    "## Import necessary modules"
   ]
  },
  {
   "cell_type": "code",
   "execution_count": 1,
   "metadata": {
    "scrolled": true
   },
   "outputs": [
    {
     "name": "stdout",
     "output_type": "stream",
     "text": [
      "Welcome to eht-imaging! v 1.2.8 \n",
      "\n"
     ]
    }
   ],
   "source": [
    "import os\n",
    "import ehtim as eh\n",
    "import numpy as np\n",
    "import matplotlib.pyplot as plt\n",
    "\n",
    "# Fourier transform type - change this to 'direct' if 'nfft' is not installed!!!\n",
    "ttype = 'nfft'"
   ]
  },
  {
   "cell_type": "markdown",
   "metadata": {},
   "source": [
    "## Define paths"
   ]
  },
  {
   "cell_type": "code",
   "execution_count": 2,
   "metadata": {},
   "outputs": [],
   "source": [
    "inpath  = '../data'\n",
    "outpath = './tutorial_results/ehtim_tutorial2'\n",
    "inobs   = os.path.join(inpath, 'tutorial2_data.uvfits')\n",
    "\n",
    "# Make output directories\n",
    "if not os.path.exists(os.path.dirname(outpath)):\n",
    "    os.makedirs(os.path.dirname(outpath))"
   ]
  },
  {
   "cell_type": "markdown",
   "metadata": {},
   "source": [
    "## Imaging parameters"
   ]
  },
  {
   "cell_type": "code",
   "execution_count": 3,
   "metadata": {},
   "outputs": [],
   "source": [
    "prior_fwhm  = 100.*eh.RADPERUAS  # Gaussian prior FWHM (radians)\n",
    "sys_noise   = 0.01               # fractional systematic noise\n",
    "                                 # added to complex visibilities\n",
    "\n",
    "reg_term  = {'simple' : 0,       # Maximum-Entropy\n",
    "             'tv'     : 1,       # Total Variation\n",
    "             'tv2'    : 0,       # Total Squared Variation\n",
    "             'l1'     : 1.,      # L1 sparsity prior\n",
    "             'flux'   : 0.}      # compact flux constraint\n",
    "\n",
    "data_term = {'amp'    : 1.,      # visibility amplitudes\n",
    "             'cphase' : 1.,      # closure phases\n",
    "             'logcamp': 1.}      # log closure amplitudes\n",
    "\n",
    "npix      = 100                  # Number of pixels across the reconstructed image\n",
    "fov       = 700*eh.RADPERUAS     # Field of view of the reconstructed image\n",
    "maxit     = 350                  # Maximum number of convergence iterations for imaging\n",
    "niter     = 4                    # Number of imaging iterations\n",
    "stop      = 1e-6                 # Imager stopping criterion"
   ]
  },
  {
   "cell_type": "markdown",
   "metadata": {},
   "source": [
    "## Helper function"
   ]
  },
  {
   "cell_type": "code",
   "execution_count": 4,
   "metadata": {},
   "outputs": [],
   "source": [
    "# Repeat imaging with blurring to assure good convergence\n",
    "def converge(imgr, major=niter, blur_frac=1.0):\n",
    "    for repeat in range(major):\n",
    "        init = imgr.out_last().blur_circ(blur_frac*res)\n",
    "        imgr.init_next = init\n",
    "        imgr.make_image_I(show_updates=False)\n",
    "        imgr.out_last().display(scale='log')\n",
    "    return imgr"
   ]
  },
  {
   "cell_type": "markdown",
   "metadata": {},
   "source": [
    "## Data preparation"
   ]
  },
  {
   "cell_type": "code",
   "execution_count": 5,
   "metadata": {},
   "outputs": [
    {
     "name": "stdout",
     "output_type": "stream",
     "text": [
      "Loading uvfits:  ../data/tutorial2_data.uvfits\n",
      "no IF in uvfits header!\n",
      "POLREP_UVFITS: circ\n",
      "Number of uvfits Correlation Products: 4\n",
      "No NX table in uvfits!\n"
     ]
    }
   ],
   "source": [
    "# Load the uvfits file\n",
    "obs = eh.obsdata.load_uvfits(inobs)\n",
    "obs.mjd = 60415 # observation file has mjd=0\n",
    "\n",
    "# Scan-average the data\n",
    "# Identify the scans (times of continous observation) in the data\n",
    "obs.add_scans()\n",
    "\n",
    "# Coherently average the scans, which can be averaged due to ad-hoc phasing\n",
    "obs = obs.avg_coherent(0., scan_avg=True)\n",
    "\n",
    "# Estimate the total flux density from the ALMA(AA) -- APEX(AP) zero baseline\n",
    "zbl = np.median(obs.unpack_bl('AA','AP','amp')['amp'])\n",
    "\n",
    "# Flag out sites in the obs.tarr table with no measurements\n",
    "allsites = set(obs.unpack(['t1'])['t1'])|set(obs.unpack(['t2'])['t2'])\n",
    "obs.tarr = obs.tarr[[o in allsites for o in obs.tarr['site']]]\n",
    "obs = eh.obsdata.Obsdata(obs.ra, obs.dec, obs.rf, obs.bw, obs.data, obs.tarr,\n",
    "                         source=obs.source, mjd=obs.mjd,\n",
    "                         ampcal=obs.ampcal, phasecal=obs.phasecal)\n",
    "\n",
    "obs_orig = obs.copy() # save obs before any further modifications\n",
    "\n",
    "# Order the stations by SNR.\n",
    "# This will create a minimal set of closure quantities\n",
    "# with the highest snr and smallest covariance.\n",
    "obs.reorder_tarr_snr()"
   ]
  },
  {
   "cell_type": "markdown",
   "metadata": {},
   "source": [
    "## Data inspection"
   ]
  },
  {
   "cell_type": "code",
   "execution_count": null,
   "metadata": {},
   "outputs": [],
   "source": [
    "# Plot uv-coverage\n",
    "obs.plotall('u', 'v', conj=True, export_pdf=outpath+'uv.pdf')\n",
    "\n",
    "# Plot visibility amplitudes, phases, etc. as a function of uv distance\n",
    "obs.plotall('uvdist', 'amp', export_pdf=outpath+'amps.pdf')\n",
    "\n",
    "# Plot baselines\n",
    "#obs.plot_bl('AA', 'SM', 'phase', rangex=[4., 10])"
   ]
  },
  {
   "cell_type": "markdown",
   "metadata": {},
   "source": [
    "## Define prior/init and noise budget"
   ]
  },
  {
   "cell_type": "code",
   "execution_count": null,
   "metadata": {},
   "outputs": [],
   "source": [
    "obs_sc = obs.copy() # From here on out, don't change obs. Use obs_sc to track gain changes\n",
    "res    = obs.res()  # The nominal array resolution: 1/(longest baseline)\n",
    "\n",
    "# Make a Gaussian prior image for maximum entropy regularization\n",
    "# This Gaussian is also the initial image\n",
    "gaussprior = eh.image.make_square(obs_sc, npix, fov)\n",
    "gaussprior = gaussprior.add_gauss(zbl, (prior_fwhm, prior_fwhm, 0.,\n",
    "                                        170*eh.RADPERUAS, -170*eh.RADPERUAS))\n",
    "\n",
    "# Add a large disk to capture extended emission\n",
    "gaussprior = gaussprior.add_tophat(zbl*0.1, fov/2).blur_circ(res)\n",
    "\n",
    "# To avoid gradient singularities in the first step, add an additional small Gaussian\n",
    "gaussprior = gaussprior.add_gauss(zbl*1e-3, (prior_fwhm, prior_fwhm, 0, 0, 0))\n",
    "\n",
    "# Rescale the prior flux so it matches the measured zbl flux\n",
    "gaussprior.imvec *= zbl / gaussprior.total_flux()\n",
    "\n",
    "print('prior total flux: {:.2f} Jy'.format(gaussprior.total_flux()))\n",
    "gaussprior.display(scale='log')\n",
    "\n",
    "# Add non-closing systematic noise to the observation\n",
    "obs_sc = obs_sc.add_fractional_noise(sys_noise)\n",
    "\n",
    "# Make a copy of the initial data (before any self-calibration but after the taper)\n",
    "obs_sc_init = obs_sc.copy()"
   ]
  },
  {
   "cell_type": "markdown",
   "metadata": {},
   "source": [
    "## Image reconstruction and self-calibration"
   ]
  },
  {
   "cell_type": "code",
   "execution_count": null,
   "metadata": {
    "scrolled": true
   },
   "outputs": [],
   "source": [
    "# First  Round of Imaging\n",
    "# ·······················\n",
    "print(\"Round 1: Imaging with complex visibilities amplitudes and closure quantities...\")\n",
    "\n",
    "# Initialize imaging with a Gaussian image\n",
    "imgr = eh.imager.Imager(obs_sc, gaussprior, prior_im=gaussprior,\n",
    "                        flux=zbl, data_term=data_term, maxit=maxit,\n",
    "                        norm_reg=True, reg_term=reg_term, ttype=ttype,\n",
    "                        stop=stop)\n",
    "\n",
    "# Imaging\n",
    "imgr.make_image_I(show_updates=False)\n",
    "imgr.out_last().display(scale='log')\n",
    "imgr = converge(imgr)\n",
    "\n"
   ]
  },
  {
   "cell_type": "code",
   "execution_count": null,
   "metadata": {},
   "outputs": [],
   "source": [
    "# Self-calibrate data to the previous model\n",
    "obs_sc = eh.selfcal(obs_sc_init, imgr.out_last(), method='both', ttype=ttype,\n",
    "                    solution_interval=0.0, processes=0)"
   ]
  },
  {
   "cell_type": "code",
   "execution_count": null,
   "metadata": {
    "scrolled": true
   },
   "outputs": [],
   "source": [
    "# Second  Round of Imaging\n",
    "# ························\n",
    "print(\"Round 2: Imaging with visibilities and closure quantities...\")\n",
    "\n",
    "# Blur the previous reconstruction to the intrinsic resolution of ~25 uas\n",
    "init = imgr.out_last().blur_circ(res)\n",
    "\n",
    "# Increase the weights on the data terms and reinitialize imaging\n",
    "data_term_intermediate = {'vis':imgr.dat_terms_last()['amp']*10,\n",
    "                          'cphase':imgr.dat_terms_last()['cphase']*10,\n",
    "                          'logcamp':imgr.dat_terms_last()['logcamp']*10}\n",
    "\n",
    "\n",
    "imgr2 = eh.imager.Imager(obs_sc, init, prior_im=gaussprior, flux=zbl,\n",
    "                        data_term=data_term_intermediate, maxit=maxit, \n",
    "                        norm_reg=True, reg_term=reg_term, ttype=ttype,\n",
    "                        stop=stop)\n",
    "\n",
    "# Imaging\n",
    "imgr2.make_image_I(show_updates=False)\n",
    "imgr2 = converge(imgr2)\n",
    "\n"
   ]
  },
  {
   "cell_type": "code",
   "execution_count": null,
   "metadata": {},
   "outputs": [],
   "source": [
    "# Self-calibrate to the previous model starting from scratch\n",
    "obs_sc = eh.selfcal(obs_sc_init, imgr2.out_last(), method='both', ttype=ttype,\n",
    "                    solution_interval=0.0, processes=0)"
   ]
  },
  {
   "cell_type": "markdown",
   "metadata": {},
   "source": [
    "## Output the results"
   ]
  },
  {
   "cell_type": "code",
   "execution_count": null,
   "metadata": {},
   "outputs": [],
   "source": [
    "# Save the reconstructed image\n",
    "im_out = imgr2.out_last().copy()\n",
    "obs_sc_final = obs_sc.copy()\n",
    "\n",
    "# Save the final image\n",
    "im_out.save_fits(outpath+'_output.fits')\n",
    "obs_sc_final.save_uvfits(outpath+'.uvfits')\n",
    "\n",
    "# Save a png of the final image\n",
    "im_out.display(cbar_unit=['Tb'], label_type='scale', export_pdf=outpath+'.png')\n",
    "im_out.display(cbar_unit=['Tb'], label_type='scale', scale='log', export_pdf=outpath+'_logscale.png')\n",
    "\n",
    "# Generate a summary of the final image and associated data consistency metrics (might take a while)\n",
    "#eh.imgsum(im_out, obs_sc_final, obs_orig, outpath+'_imgsum.pdf', gainplots=False)"
   ]
  },
  {
   "cell_type": "markdown",
   "metadata": {},
   "source": [
    "## Check image fit to data"
   ]
  },
  {
   "cell_type": "code",
   "execution_count": null,
   "metadata": {},
   "outputs": [],
   "source": [
    "# Plot self-calibrated visibility amplitudes and image model\n",
    "eh.plotall_obs_im_compare(obs_sc_final, im_out, 'uvdist', 'amp')\n",
    "\n",
    "# Plot closure phases and image model\n",
    "eh.plot_cphase_obs_im_compare(obs_sc_final, im_out, 'AA', 'SM', 'LM')"
   ]
  }
 ],
 "metadata": {
  "kernelspec": {
   "display_name": "Python 3",
   "language": "python",
   "name": "python3"
  },
  "language_info": {
   "codemirror_mode": {
    "name": "ipython",
    "version": 3
   },
   "file_extension": ".py",
   "mimetype": "text/x-python",
   "name": "python",
   "nbconvert_exporter": "python",
   "pygments_lexer": "ipython3",
   "version": "3.8.3"
  }
 },
 "nbformat": 4,
 "nbformat_minor": 4
}
