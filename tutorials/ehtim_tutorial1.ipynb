{
 "cells": [
  {
   "cell_type": "markdown",
   "id": "cce1e912",
   "metadata": {},
   "source": [
    "# *eht-imaging* tutorial #1\n",
    "\n",
    "---\n",
    "\n",
    "`eht-imaging` is a Python software for radio interferometric simulation, calibration, analysis, and imaging. Code and documentation can be found on [GitHub](https://github.com/achael/eht-imaging)\n",
    "\n",
    "This notebook is an initial eht-imaging tutorial introducing data preparation, simulation, and Stokes I imaging. \n",
    "\n",
    "## Prerequisites\n",
    "Running this notebook requires that `eht-imaging` and its dependencies are installed (see README on [GitHub](https://github.com/achael/eht-imaging)). If you do not have `nfft` installed, you can set `ttype=direct` or `ttype=fast` in the following."
   ]
  },
  {
   "cell_type": "code",
   "execution_count": null,
   "id": "f21d3670",
   "metadata": {},
   "outputs": [],
   "source": [
    "from __future__ import division\n",
    "from __future__ import print_function\n",
    "\n",
    "import matplotlib.pyplot as plt\n",
    "import numpy as np\n",
    "import ehtim as eh\n",
    "from   ehtim.calibrating import self_cal as sc\n",
    "import time\n",
    "\n",
    "plt.close('all')\n",
    "\n",
    "# Fourier transform type - change this to 'direct' if 'nfft' is not installed!!!\n",
    "ttype = 'nfft'"
   ]
  },
  {
   "cell_type": "markdown",
   "id": "82f078b7",
   "metadata": {},
   "source": [
    "## Load Image"
   ]
  },
  {
   "cell_type": "code",
   "execution_count": null,
   "id": "bd6a1261",
   "metadata": {},
   "outputs": [],
   "source": [
    "# Load the image and the telescope array\n",
    "im = eh.image.load_image('../models/rowan_m87.txt')\n",
    "eht = eh.array.load_txt('../arrays/EHT2017.txt')"
   ]
  },
  {
   "cell_type": "code",
   "execution_count": null,
   "id": "68c99eb8",
   "metadata": {
    "scrolled": false
   },
   "outputs": [],
   "source": [
    "# Regrid the image for display\n",
    "imdisp = im.regrid_image(120*eh.RADPERUAS, 512)\n",
    "# Look at the image\n",
    "imdisp.display();\n",
    "imdisp.blur_circ(15*eh.RADPERUAS).display()"
   ]
  },
  {
   "cell_type": "markdown",
   "id": "5701a294",
   "metadata": {},
   "source": [
    "## Simulate an observation and plot data"
   ]
  },
  {
   "cell_type": "code",
   "execution_count": null,
   "id": "305cca4f",
   "metadata": {},
   "outputs": [],
   "source": [
    "# simulate and save an EHT observation\n",
    "# ampcal and phasecal determine if gain variations and phase errors are included\n",
    "# for now, let's assume we can calibrate both amplitude and phase\n",
    "# try changing phasecal=False and see what happens!\n",
    "\n",
    "# simulation parameters\n",
    "tint_sec = 60  # Integration time in seconds, \n",
    "tadv_sec = 600 # Advance time between scans\n",
    "tstart_hr = 0  # GMST time of the start of the observation\n",
    "tstop_hr = 24  # GMST time of the end of the observation\n",
    "bw_hz = 4.e9   # Bandwidth in Hz\n",
    "\n",
    "# generate the observation\n",
    "obs = im.observe(eht, tint_sec, tadv_sec, tstart_hr, tstop_hr, bw_hz,\n",
    "                 sgrscat=False, ampcal=True, phasecal=True)\n",
    "\n",
    "# save the observation in a uvfits files \n",
    "obs.save_uvfits('./tutorial_results/ehtim_tutorial1.uvfits')"
   ]
  },
  {
   "cell_type": "code",
   "execution_count": null,
   "id": "b7f65eef",
   "metadata": {},
   "outputs": [],
   "source": [
    "# Plot uv coverage\n",
    "obs.plotall('u','v', conj=True, rangex=[1.e10,-1.e10],rangey=[-1.e10,1.e10]) \n",
    "\n",
    "# Plot amplitude with baseline distance\n",
    "obs.plotall('uvdist','amp')  \n",
    "\n",
    "# Plot phase with baseline distance'\n",
    "obs.plotall('uvdist','phase') \n",
    "\n",
    "# Plot visibility phase on a baseline over time \n",
    "obs.plot_bl('ALMA','LMT','phase') \n",
    "\n",
    "# Plot closure phase on a triangle over time\n",
    "obs.plot_cphase('SMA','ALMA','SMT'); "
   ]
  },
  {
   "cell_type": "code",
   "execution_count": null,
   "id": "d2c1d77d",
   "metadata": {},
   "outputs": [],
   "source": [
    "# Plot the dirty image, dirty beam, and clean beam\n",
    "npix = 64\n",
    "fov = im.xdim * im.psize\n",
    "\n",
    "# dirty image\n",
    "dim = obs.dirtyimage(npix, fov)\n",
    "dim.display();\n",
    "\n",
    "# dirty beam\n",
    "dbeam = obs.dirtybeam(npix, fov)\n",
    "dbeam.display();\n",
    "\n",
    "# clean beam\n",
    "cbeam = obs.cleanbeam(npix,fov)\n",
    "cbeam.display();"
   ]
  },
  {
   "cell_type": "code",
   "execution_count": null,
   "id": "5984d672",
   "metadata": {},
   "outputs": [],
   "source": [
    "# What is the resolution of the observation? \n",
    "beamparams = obs.fit_beam() # fitted beam parameters (fwhm_maj, fwhm_min, theta) in radians\n",
    "res = obs.res()             # nominal array resolution, 1/longest baseline\n",
    "\n",
    "\n",
    "print(\"Clean beam parameters: [%.1f uas,%.1f uas,%.1f deg]\"\n",
    "      %(beamparams[0]/eh.RADPERUAS, beamparams[1]/eh.RADPERUAS,beamparams[2]/eh.DEGREE))\n",
    "print(\"Nominal Resolution: %.1f uas\"%(res/eh.RADPERUAS))"
   ]
  },
  {
   "cell_type": "markdown",
   "id": "bbc9d228",
   "metadata": {},
   "source": [
    "## Set  Up and Run an Imager with Complex Visibilities"
   ]
  },
  {
   "cell_type": "code",
   "execution_count": null,
   "id": "8ede3480",
   "metadata": {},
   "outputs": [],
   "source": [
    "# Image Parameters\n",
    "npix = 100\n",
    "fov = 200*eh.RADPERUAS\n",
    "zbl = im.total_flux() # total flux"
   ]
  },
  {
   "cell_type": "code",
   "execution_count": null,
   "id": "d4e2249b",
   "metadata": {},
   "outputs": [],
   "source": [
    "# Set up and display an image prior\n",
    "prior_fwhm = 100*eh.RADPERUAS # Gaussian size in microarcssec\n",
    "emptyprior = eh.image.make_square(obs, npix, fov)\n",
    "flatprior = emptyprior.add_flat(zbl)\n",
    "gaussprior = emptyprior.add_gauss(zbl, (prior_fwhm, prior_fwhm, 0, 0, 0))\n",
    "gaussprior.display();"
   ]
  },
  {
   "cell_type": "code",
   "execution_count": null,
   "id": "441666df",
   "metadata": {},
   "outputs": [],
   "source": [
    "# Image total flux with amplitude and closure phase\n",
    "data_term={'vis':1}              # data term weights\n",
    "#reg_term = {'tv2':1, 'l1':0.1}   # regularizer term weights\n",
    "reg_term = {'tv2':1, 'simple':0.1, 'l1':0.1}   # regularizer term weights\n",
    "reg_term = {'tv2':1, 'l1':0.1}   # regularizer term weights\n",
    "\n",
    "\n",
    "# set up the imager\n",
    "imgr  = eh.imager.Imager(obs, gaussprior, prior_im=gaussprior, flux=zbl,\n",
    "                         data_term=data_term, reg_term=reg_term, \n",
    "                         norm_reg=True, # this is very important!\n",
    "                         epsilon_tv = 1.e-10,\n",
    "                         maxit=250, ttype=ttype)"
   ]
  },
  {
   "cell_type": "code",
   "execution_count": null,
   "id": "1b3eaa71",
   "metadata": {},
   "outputs": [],
   "source": [
    "# run the imager\n",
    "# NOTE: show_updates does not display well in jupyter for some reason\n",
    "# try using show_updates in a terminal window\n",
    "# but here we keep show_updates=False for speed\n",
    "imgr.make_image_I(show_updates=False)"
   ]
  },
  {
   "cell_type": "code",
   "execution_count": null,
   "id": "6691db80",
   "metadata": {},
   "outputs": [],
   "source": [
    "# Display the raw result of the first round\n",
    "out = imgr.out_last()\n",
    "out.display()\n",
    "\n",
    "# Blur the result to the nominal resolution and display\n",
    "outblur = out.blur_circ(res)\n",
    "outblur.display();"
   ]
  },
  {
   "cell_type": "code",
   "execution_count": null,
   "id": "f3b97afa",
   "metadata": {},
   "outputs": [],
   "source": [
    "# re-initialize imager with the blurred output of the last round\n",
    "imgr.init_next = imgr.out_last().blur_circ(res)\n",
    "\n",
    "# run the imager a second time\n",
    "imgr.make_image_I(show_updates=False)\n",
    "\n",
    "# display the output of the second round\n",
    "out = imgr.out_last()\n",
    "outblur = out.blur_circ(res)\n",
    "out.display();\n",
    "outblur.display();"
   ]
  },
  {
   "cell_type": "code",
   "execution_count": null,
   "id": "518719cb",
   "metadata": {},
   "outputs": [],
   "source": [
    "# update the initial image and image one more time\n",
    "imgr.init_next = imgr.out_last().blur_circ(res) # re-initialze the imager\n",
    "imgr.maxit_next = 500                           # let the imager run for more iterations this time\n",
    "imgr.make_image_I(show_updates=False)           # run imager\n",
    "\n",
    "# display the final output\n",
    "out = imgr.out_last()\n",
    "outblur = out.blur_circ(res)\n",
    "out.display();\n",
    "outblur.display();"
   ]
  },
  {
   "cell_type": "markdown",
   "id": "c29a2cd4",
   "metadata": {},
   "source": [
    "## Set  Up and Run an Imager with Closure Phases and Amplitudes"
   ]
  },
  {
   "cell_type": "code",
   "execution_count": null,
   "id": "08741fd8",
   "metadata": {},
   "outputs": [],
   "source": [
    "# Image total flux with closure amplitudes and closure phase\n",
    "#data_term={'logcamp':1,'cphase':0.5} # data term weights\n",
    "data_term={'amp':1,'cphase':0.5} # data term weights\n",
    "\n",
    "#reg_term = {'tv2':1, 'l1':0.1}   # regularizer term weights\n",
    "reg_term = {'tv2':1, 'l1':0.1}   # regularizer term weights\n",
    "\n",
    "# set up the imager\n",
    "imgr  = eh.imager.Imager(obs, gaussprior, prior_im=gaussprior, flux=zbl,\n",
    "                         data_term=data_term, reg_term=reg_term, \n",
    "                         norm_reg=True, # this is very important!\n",
    "                         epsilon_tv = 1.e-10,\n",
    "                         maxit=250, ttype=ttype)\n",
    "\n",
    "# image the first time\n",
    "imgr.make_image_I(show_updates=False)\n",
    "\n",
    "# re-initialize and image again\n",
    "imgr.init_next = imgr.out_last().blur_circ(res)\n",
    "imgr.make_image_I(show_updates=False)\n",
    "\n",
    "# image one last time\n",
    "imgr.init_next = imgr.out_last().blur_circ(res) \n",
    "imgr.maxit_next = 500                          \n",
    "imgr.make_image_I(show_updates=False)           \n"
   ]
  },
  {
   "cell_type": "code",
   "execution_count": null,
   "id": "f12953a3",
   "metadata": {},
   "outputs": [],
   "source": [
    "# display the final output at various blur levels\n",
    "# raw output\n",
    "out = imgr.out_last()\n",
    "out.display();\n",
    "\n",
    "# blurred to the full nominal resolution\n",
    "outblur1 = out.blur_circ(res) \n",
    "outblur1.display(beamparams=[res,res,0]);\n",
    "\n",
    "# blurred to half the nominal resolution\n",
    "outblur2 = out.blur_circ(0.5*res) \n",
    "outblur2.display(beamparams=[0.5*res,0.5*res,0]);\n",
    "\n",
    "# blurred to  the asymmetric nominal beam\n",
    "outblur3 = out.blur_gauss(beamparams) \n",
    "outblur3.display(beamparams=beamparams);\n",
    "\n",
    "# blurred to half the asymmetric nominal beam\n",
    "beamparams_superres=[0.5*beamparams[0],0.5*beamparams[1],beamparams[2]]\n",
    "outblur3 = out.blur_gauss(beamparams_superres) \n",
    "outblur3.display(beamparams=beamparams_superres);"
   ]
  },
  {
   "cell_type": "code",
   "execution_count": null,
   "id": "b032d291",
   "metadata": {},
   "outputs": [],
   "source": [
    "# save the output\n",
    "out.save_fits('./tutorial_results/ehtim_tutorial1_output.fits')"
   ]
  }
 ],
 "metadata": {
  "kernelspec": {
   "display_name": "Python 3",
   "language": "python",
   "name": "python3"
  },
  "language_info": {
   "codemirror_mode": {
    "name": "ipython",
    "version": 3
   },
   "file_extension": ".py",
   "mimetype": "text/x-python",
   "name": "python",
   "nbconvert_exporter": "python",
   "pygments_lexer": "ipython3",
   "version": "3.8.3"
  }
 },
 "nbformat": 4,
 "nbformat_minor": 5
}
